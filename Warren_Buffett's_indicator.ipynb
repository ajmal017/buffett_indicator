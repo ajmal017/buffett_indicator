{
  "nbformat": 4,
  "nbformat_minor": 0,
  "metadata": {
    "colab": {
      "name": "Warren_Buffett's_indicator.ipynb",
      "provenance": [],
      "collapsed_sections": [],
      "authorship_tag": "ABX9TyN9w5p1RX7RnhKbHnMzEOf8",
      "include_colab_link": true
    },
    "kernelspec": {
      "name": "python3",
      "display_name": "Python 3"
    }
  },
  "cells": [
    {
      "cell_type": "markdown",
      "metadata": {
        "id": "view-in-github",
        "colab_type": "text"
      },
      "source": [
        "<a href=\"https://colab.research.google.com/github/hristo-mavrodiev/buffett_indicator/blob/main/Warren_Buffett's_indicator.ipynb\" target=\"_parent\"><img src=\"https://colab.research.google.com/assets/colab-badge.svg\" alt=\"Open In Colab\"/></a>"
      ]
    },
    {
      "cell_type": "code",
      "metadata": {
        "id": "wEbkv0IEDsOd"
      },
      "source": [
        "import pandas as pd\n",
        "import plotly.express as px"
      ],
      "execution_count": 94,
      "outputs": []
    },
    {
      "cell_type": "markdown",
      "metadata": {
        "id": "hBFGN_ArE_xx"
      },
      "source": [
        "### Intro: \n",
        "\"The stock market capitalization-to-GDP ratio is a ratio used to determine whether an overall market is undervalued or overvalued compared to a historical average. The ratio can be used to focus on specific markets, such as the U.S. market, or it can be applied to the global market, depending on what values are used in the calculation. It is calculated by dividing the stock market cap by gross domestic product (GDP). The stock market capitalization-to-GDP ratio is also known as the Buffett Indicator—after investor Warren Buffett, who popularized its use.\n",
        "    \n",
        "\n",
        "-   The stock market capitalization-to-GDP ratio is a ratio used to determine whether an overall market is undervalued or overvalued compared to a historical average.\n",
        "-   If the valuation ratio falls between 50% and 75%, the market can be said to be modestly undervalued. Also, the market may be fair valued if the ratio falls between 75% and 90%, and modestly overvalued if it falls within the range of 90 and 115%.\n",
        "-   The stock market capitalization-to-GDP ratio is also known as the Buffett Indicator—after investor Warren Buffett, who popularized its use.\n",
        "\n",
        "\n",
        "\"\n",
        "\n",
        "Source: https://www.investopedia.com/terms/m/marketcapgdp.asp"
      ]
    },
    {
      "cell_type": "code",
      "metadata": {
        "id": "5WVudPjrC4M9"
      },
      "source": [
        "GDP_LINK = \"https://fred.stlouisfed.org/graph/fredgraph.csv?bgcolor=%23e1e9f0&chart_type=line&drp=0&fo=open%20sans&graph_bgcolor=%23ffffff&height=450&mode=fred&recession_bars=on&txtcolor=%23444444&ts=12&tts=12&width=1168&nt=0&thu=0&trc=0&show_legend=yes&show_axis_titles=yes&show_tooltip=yes&id=GDP&scale=left&cosd=1947-01-01&coed=2020-07-01&line_color=%234572a7&link_values=false&line_style=solid&mark_type=none&mw=3&lw=2&ost=-99999&oet=99999&mma=0&fml=a&fq=Quarterly&fam=avg&fgst=lin&fgsnd=2020-02-01&line_index=1&transformation=lin&vintage_date=2020-12-24&revision_date=2020-12-24&nd=1947-01-01\"\n",
        "W5000_LINK = \"https://fred.stlouisfed.org/graph/fredgraph.csv?bgcolor=%23e1e9f0&chart_type=line&drp=0&fo=open%20sans&graph_bgcolor=%23ffffff&height=450&mode=fred&recession_bars=on&txtcolor=%23444444&ts=12&tts=12&width=1168&nt=0&thu=0&trc=0&show_legend=yes&show_axis_titles=yes&show_tooltip=yes&id=WILL5000PRFC_GDP&scale=left&cosd=1970-12-31&coed=2020-12-23&line_color=%234572a7&link_values=false&line_style=solid&mark_type=none&mw=3&lw=2&ost=-99999&oet=99999&mma=0&fml=a&fq=Quarterly&fam=avg&fgst=lin&fgsnd=2020-02-01&line_index=1&transformation=lin_lin&vintage_date=2020-12-24_2020-12-24&revision_date=2020-12-24_2020-12-24&nd=1970-12-31_1947-01-01\""
      ],
      "execution_count": null,
      "outputs": []
    },
    {
      "cell_type": "code",
      "metadata": {
        "id": "Jqoiow3T-1a-"
      },
      "source": [
        "def get_calculate(GDP_LINK,W5000_LINK):\n",
        "    \"\"\"\n",
        "    Function to download GDP data and W5000 datasets. Join the datasets by date comlumn and \n",
        "    calculate the indicator W5000/GDP * 100.\n",
        "    Input:\n",
        "    --------\n",
        "    GDP_LINK - link to the CSV file GDP dataset \n",
        "    https://fred.stlouisfed.org/series/GDP#0\n",
        "    W5000_LINK - link to the CSV file for W5000 data\n",
        "    https://fred.stlouisfed.org/series/WILL5000PRFC#0\n",
        "    \n",
        "    Output:\n",
        "    --------\n",
        "    Pandas dataset with DATE and buffett columns\n",
        "    \"\"\"\n",
        "    GDP = pd.read_csv(GDP_LINK)\n",
        "    W5000 = pd.read_csv(W5000_LINK)\n",
        "    GDP.DATE = pd.to_datetime(GDP.DATE)\n",
        "    W5000.DATE = pd.to_datetime(W5000.DATE)\n",
        "    buffett_data = pd.merge(W5000, GDP, how='inner', left_on='DATE', right_on='DATE')\n",
        "    buffett_data['buffett'] = buffett_data.WILL5000PRFC / buffett_data.GDP * 100\n",
        "    return buffett_data[['DATE','buffett']]"
      ],
      "execution_count": 97,
      "outputs": []
    },
    {
      "cell_type": "code",
      "metadata": {
        "id": "jONu0reV6Frt"
      },
      "source": [
        "def timeseries_plot(buffett_data):\n",
        "    \"\"\"Just plot the indicator using pyplot\"\"\"\n",
        "\n",
        "    fig = px.line(buffett_data, x='DATE', y=\"buffett\", labels=dict(buffett=\"Buffett's indicator %\"), \n",
        "                title='Stock Market Capitalization-to-GDP Ratio')\n",
        "    fig.show()"
      ],
      "execution_count": 98,
      "outputs": []
    },
    {
      "cell_type": "code",
      "metadata": {
        "colab": {
          "base_uri": "https://localhost:8080/",
          "height": 542
        },
        "id": "Ikuv2pY47JDQ",
        "outputId": "a7b53000-ff37-4731-975e-61400b5a1e91"
      },
      "source": [
        "buffett_data = get_calculate(GDP_LINK,W5000_LINK)\n",
        "timeseries_plot(buffett_data)"
      ],
      "execution_count": 99,
      "outputs": [
        {
          "output_type": "display_data",
          "data": {
            "text/html": [
              "<html>\n",
              "<head><meta charset=\"utf-8\" /></head>\n",
              "<body>\n",
              "    <div>\n",
              "            <script src=\"https://cdnjs.cloudflare.com/ajax/libs/mathjax/2.7.5/MathJax.js?config=TeX-AMS-MML_SVG\"></script><script type=\"text/javascript\">if (window.MathJax) {MathJax.Hub.Config({SVG: {font: \"STIX-Web\"}});}</script>\n",
              "                <script type=\"text/javascript\">window.PlotlyConfig = {MathJaxConfig: 'local'};</script>\n",
              "        <script src=\"https://cdn.plot.ly/plotly-latest.min.js\"></script>    \n",
              "            <div id=\"81f465c1-d03c-4719-815c-53671c03bf11\" class=\"plotly-graph-div\" style=\"height:525px; width:100%;\"></div>\n",
              "            <script type=\"text/javascript\">\n",
              "                \n",
              "                    window.PLOTLYENV=window.PLOTLYENV || {};\n",
              "                    \n",
              "                if (document.getElementById(\"81f465c1-d03c-4719-815c-53671c03bf11\")) {\n",
              "                    Plotly.newPlot(\n",
              "                        '81f465c1-d03c-4719-815c-53671c03bf11',\n",
              "                        [{\"hoverlabel\": {\"namelength\": 0}, \"hovertemplate\": \"DATE=%{x}<br>Buffett's indicator %=%{y}\", \"legendgroup\": \"\", \"line\": {\"color\": \"#636efa\", \"dash\": \"solid\"}, \"mode\": \"lines\", \"name\": \"\", \"showlegend\": false, \"type\": \"scatter\", \"x\": [\"1971-01-01T00:00:00\", \"1971-04-01T00:00:00\", \"1971-07-01T00:00:00\", \"1971-10-01T00:00:00\", \"1972-01-01T00:00:00\", \"1972-04-01T00:00:00\", \"1972-07-01T00:00:00\", \"1972-10-01T00:00:00\", \"1973-01-01T00:00:00\", \"1973-04-01T00:00:00\", \"1973-07-01T00:00:00\", \"1973-10-01T00:00:00\", \"1974-01-01T00:00:00\", \"1974-04-01T00:00:00\", \"1974-07-01T00:00:00\", \"1974-10-01T00:00:00\", \"1975-01-01T00:00:00\", \"1975-04-01T00:00:00\", \"1975-07-01T00:00:00\", \"1975-10-01T00:00:00\", \"1976-01-01T00:00:00\", \"1976-04-01T00:00:00\", \"1976-07-01T00:00:00\", \"1976-10-01T00:00:00\", \"1977-01-01T00:00:00\", \"1977-04-01T00:00:00\", \"1977-07-01T00:00:00\", \"1977-10-01T00:00:00\", \"1978-01-01T00:00:00\", \"1978-04-01T00:00:00\", \"1978-07-01T00:00:00\", \"1978-10-01T00:00:00\", \"1979-01-01T00:00:00\", \"1979-04-01T00:00:00\", \"1979-07-01T00:00:00\", \"1979-10-01T00:00:00\", \"1980-01-01T00:00:00\", \"1980-04-01T00:00:00\", \"1980-07-01T00:00:00\", \"1980-10-01T00:00:00\", \"1981-01-01T00:00:00\", \"1981-04-01T00:00:00\", \"1981-07-01T00:00:00\", \"1981-10-01T00:00:00\", \"1982-01-01T00:00:00\", \"1982-04-01T00:00:00\", \"1982-07-01T00:00:00\", \"1982-10-01T00:00:00\", \"1983-01-01T00:00:00\", \"1983-04-01T00:00:00\", \"1983-07-01T00:00:00\", \"1983-10-01T00:00:00\", \"1984-01-01T00:00:00\", \"1984-04-01T00:00:00\", \"1984-07-01T00:00:00\", \"1984-10-01T00:00:00\", \"1985-01-01T00:00:00\", \"1985-04-01T00:00:00\", \"1985-07-01T00:00:00\", \"1985-10-01T00:00:00\", \"1986-01-01T00:00:00\", \"1986-04-01T00:00:00\", \"1986-07-01T00:00:00\", \"1986-10-01T00:00:00\", \"1987-01-01T00:00:00\", \"1987-04-01T00:00:00\", \"1987-07-01T00:00:00\", \"1987-10-01T00:00:00\", \"1988-01-01T00:00:00\", \"1988-04-01T00:00:00\", \"1988-07-01T00:00:00\", \"1988-10-01T00:00:00\", \"1989-01-01T00:00:00\", \"1989-04-01T00:00:00\", \"1989-07-01T00:00:00\", \"1989-10-01T00:00:00\", \"1990-01-01T00:00:00\", \"1990-04-01T00:00:00\", \"1990-07-01T00:00:00\", \"1990-10-01T00:00:00\", \"1991-01-01T00:00:00\", \"1991-04-01T00:00:00\", \"1991-07-01T00:00:00\", \"1991-10-01T00:00:00\", \"1992-01-01T00:00:00\", \"1992-04-01T00:00:00\", \"1992-07-01T00:00:00\", \"1992-10-01T00:00:00\", \"1993-01-01T00:00:00\", \"1993-04-01T00:00:00\", \"1993-07-01T00:00:00\", \"1993-10-01T00:00:00\", \"1994-01-01T00:00:00\", \"1994-04-01T00:00:00\", \"1994-07-01T00:00:00\", \"1994-10-01T00:00:00\", \"1995-01-01T00:00:00\", \"1995-04-01T00:00:00\", \"1995-07-01T00:00:00\", \"1995-10-01T00:00:00\", \"1996-01-01T00:00:00\", \"1996-04-01T00:00:00\", \"1996-07-01T00:00:00\", \"1996-10-01T00:00:00\", \"1997-01-01T00:00:00\", \"1997-04-01T00:00:00\", \"1997-07-01T00:00:00\", \"1997-10-01T00:00:00\", \"1998-01-01T00:00:00\", \"1998-04-01T00:00:00\", \"1998-07-01T00:00:00\", \"1998-10-01T00:00:00\", \"1999-01-01T00:00:00\", \"1999-04-01T00:00:00\", \"1999-07-01T00:00:00\", \"1999-10-01T00:00:00\", \"2000-01-01T00:00:00\", \"2000-04-01T00:00:00\", \"2000-07-01T00:00:00\", \"2000-10-01T00:00:00\", \"2001-01-01T00:00:00\", \"2001-04-01T00:00:00\", \"2001-07-01T00:00:00\", \"2001-10-01T00:00:00\", \"2002-01-01T00:00:00\", \"2002-04-01T00:00:00\", \"2002-07-01T00:00:00\", \"2002-10-01T00:00:00\", \"2003-01-01T00:00:00\", \"2003-04-01T00:00:00\", \"2003-07-01T00:00:00\", \"2003-10-01T00:00:00\", \"2004-01-01T00:00:00\", \"2004-04-01T00:00:00\", \"2004-07-01T00:00:00\", \"2004-10-01T00:00:00\", \"2005-01-01T00:00:00\", \"2005-04-01T00:00:00\", \"2005-07-01T00:00:00\", \"2005-10-01T00:00:00\", \"2006-01-01T00:00:00\", \"2006-04-01T00:00:00\", \"2006-07-01T00:00:00\", \"2006-10-01T00:00:00\", \"2007-01-01T00:00:00\", \"2007-04-01T00:00:00\", \"2007-07-01T00:00:00\", \"2007-10-01T00:00:00\", \"2008-01-01T00:00:00\", \"2008-04-01T00:00:00\", \"2008-07-01T00:00:00\", \"2008-10-01T00:00:00\", \"2009-01-01T00:00:00\", \"2009-04-01T00:00:00\", \"2009-07-01T00:00:00\", \"2009-10-01T00:00:00\", \"2010-01-01T00:00:00\", \"2010-04-01T00:00:00\", \"2010-07-01T00:00:00\", \"2010-10-01T00:00:00\", \"2011-01-01T00:00:00\", \"2011-04-01T00:00:00\", \"2011-07-01T00:00:00\", \"2011-10-01T00:00:00\", \"2012-01-01T00:00:00\", \"2012-04-01T00:00:00\", \"2012-07-01T00:00:00\", \"2012-10-01T00:00:00\", \"2013-01-01T00:00:00\", \"2013-04-01T00:00:00\", \"2013-07-01T00:00:00\", \"2013-10-01T00:00:00\", \"2014-01-01T00:00:00\", \"2014-04-01T00:00:00\", \"2014-07-01T00:00:00\", \"2014-10-01T00:00:00\", \"2015-01-01T00:00:00\", \"2015-04-01T00:00:00\", \"2015-07-01T00:00:00\", \"2015-10-01T00:00:00\", \"2016-01-01T00:00:00\", \"2016-04-01T00:00:00\", \"2016-07-01T00:00:00\", \"2016-10-01T00:00:00\", \"2017-01-01T00:00:00\", \"2017-04-01T00:00:00\", \"2017-07-01T00:00:00\", \"2017-10-01T00:00:00\", \"2018-01-01T00:00:00\", \"2018-04-01T00:00:00\", \"2018-07-01T00:00:00\", \"2018-10-01T00:00:00\", \"2019-01-01T00:00:00\", \"2019-04-01T00:00:00\", \"2019-07-01T00:00:00\", \"2019-10-01T00:00:00\", \"2020-01-01T00:00:00\", \"2020-04-01T00:00:00\", \"2020-07-01T00:00:00\"], \"xaxis\": \"x\", \"y\": [78.75011598993147, 80.63248148574166, 77.02492906220589, 75.54809149873238, 81.1419386661401, 80.62921102248501, 79.35975378244893, 80.43244658756387, 74.32552444421857, 65.76857509357771, 66.85041592332372, 60.852583742072184, 57.3264154566306, 50.08792706497888, 39.66600556657389, 38.29122384345026, 43.69921466033379, 48.5608182649021, 44.603915421896254, 44.498971051517785, 48.8114810304422, 48.37073843493857, 48.22627593038044, 47.44814546171438, 45.38493824279946, 43.691946806335615, 42.18038181274909, 40.37666280085202, 37.935287245697815, 39.529377050333395, 41.32726916690361, 36.57766066237132, 38.237533031743446, 38.77258066611686, 40.45874546012311, 40.07938132972137, 40.54839988510391, 39.286728850645005, 44.41201711160193, 46.36604168584298, 43.65840627625377, 44.40632650402544, 40.65406186390333, 39.0894845050838, 36.11036056125904, 35.27101896986158, 34.599501325185166, 41.43700509704309, 44.340377733498556, 48.08823291474692, 47.59511279474376, 45.72256257525156, 42.453016908078176, 39.78210823280944, 40.142665737817836, 40.597201890491405, 43.05959159343385, 44.3244952457884, 44.43147110137173, 45.40759601394569, 50.19364682138983, 54.597479918993955, 53.473621911643384, 52.81232132800673, 59.521349310398385, 60.72705372021251, 64.36487049485572, 49.95074187888403, 50.272497140970415, 50.538873223340154, 50.382796358394685, 50.22593662227377, 52.03881304598591, 55.14526331843969, 58.91473237657371, 58.61082768299227, 55.3783960574124, 56.16705262948535, 53.054082467812826, 49.330391230550966, 55.2629387453274, 59.12806078380745, 59.555657147341336, 59.89070526327552, 63.617446583019046, 61.36170212786832, 61.18334510749103, 61.77550578500818, 64.73831772193124, 64.31332749632854, 65.4888006171955, 65.93750365354396, 65.88564218532632, 61.84460660301494, 62.27412504305303, 61.008674392624144, 62.92078770256623, 67.72304780258088, 72.89347118440097, 75.65853784872785, 79.22654974622397, 81.46242017786827, 79.58956800593451, 85.30103316423663, 90.0828547949872, 91.46538511766586, 102.53436401447887, 104.45176444662259, 110.0239439282168, 117.19219322885843, 110.19674360441513, 110.06983067069893, 122.32275099692036, 127.78146831173282, 126.53623372935931, 128.18368171717455, 136.91387894288127, 131.16615951892118, 134.0326684357227, 121.2608654878407, 111.99433594451516, 107.40307757694916, 100.74808118155207, 96.61862544550834, 98.06783828494187, 92.98715073072606, 77.12159024052926, 75.6366785040062, 72.90945438158379, 78.97325581945981, 83.50837874068735, 87.38274952152958, 92.71350609964695, 90.4307644902834, 87.24887916614513, 91.16112943379578, 92.00554152840532, 90.42787044630909, 93.08458589115182, 92.36167100502148, 95.15637511688004, 94.21006572631838, 93.0415888585256, 99.3868737010759, 101.37265020016916, 105.17555314985331, 103.26814146730798, 102.86294977604811, 92.93094962160123, 93.95606630148528, 86.1293996496303, 62.850616259040535, 56.781941652547495, 63.62909285590148, 71.16376018771298, 76.8095025037905, 79.50353693395124, 79.80419624527816, 76.21345412577536, 83.62286066623743, 90.37182423420715, 90.27187265204368, 82.97901127031109, 81.46407988657455, 88.71396043681527, 87.6141010008989, 90.02716248395394, 90.71544176823093, 96.48978762762863, 102.04031552670689, 105.60329171045825, 110.25681257341668, 114.82651412033273, 115.67285922111041, 117.97638159625818, 118.35339072680023, 120.98574857547916, 122.02794232847936, 116.45773606514267, 116.18122314603406, 108.53249594359356, 114.9364098031824, 119.25866461741683, 119.71466071036386, 126.18494751542771, 128.76796182373, 130.60147569351898, 135.63585302308059, 140.00971909771602, 136.9743573980449, 143.20454256319957, 133.10878042739145, 133.38185260688752, 139.38532962510456, 140.7816690904153, 144.4355090028258, 143.81511989336838, 151.93203781559365, 160.29244346619018], \"yaxis\": \"y\"}],\n",
              "                        {\"legend\": {\"tracegroupgap\": 0}, \"template\": {\"data\": {\"bar\": [{\"error_x\": {\"color\": \"#2a3f5f\"}, \"error_y\": {\"color\": \"#2a3f5f\"}, \"marker\": {\"line\": {\"color\": \"#E5ECF6\", \"width\": 0.5}}, \"type\": \"bar\"}], \"barpolar\": [{\"marker\": {\"line\": {\"color\": \"#E5ECF6\", \"width\": 0.5}}, \"type\": \"barpolar\"}], \"carpet\": [{\"aaxis\": {\"endlinecolor\": \"#2a3f5f\", \"gridcolor\": \"white\", \"linecolor\": \"white\", \"minorgridcolor\": \"white\", \"startlinecolor\": \"#2a3f5f\"}, \"baxis\": {\"endlinecolor\": \"#2a3f5f\", \"gridcolor\": \"white\", \"linecolor\": \"white\", \"minorgridcolor\": \"white\", \"startlinecolor\": \"#2a3f5f\"}, \"type\": \"carpet\"}], \"choropleth\": [{\"colorbar\": {\"outlinewidth\": 0, \"ticks\": \"\"}, \"type\": \"choropleth\"}], \"contour\": [{\"colorbar\": {\"outlinewidth\": 0, \"ticks\": \"\"}, \"colorscale\": [[0.0, \"#0d0887\"], [0.1111111111111111, \"#46039f\"], [0.2222222222222222, \"#7201a8\"], [0.3333333333333333, \"#9c179e\"], [0.4444444444444444, \"#bd3786\"], [0.5555555555555556, \"#d8576b\"], [0.6666666666666666, \"#ed7953\"], [0.7777777777777778, \"#fb9f3a\"], [0.8888888888888888, \"#fdca26\"], [1.0, \"#f0f921\"]], \"type\": \"contour\"}], \"contourcarpet\": [{\"colorbar\": {\"outlinewidth\": 0, \"ticks\": \"\"}, \"type\": \"contourcarpet\"}], \"heatmap\": [{\"colorbar\": {\"outlinewidth\": 0, \"ticks\": \"\"}, \"colorscale\": [[0.0, \"#0d0887\"], [0.1111111111111111, \"#46039f\"], [0.2222222222222222, \"#7201a8\"], [0.3333333333333333, \"#9c179e\"], [0.4444444444444444, \"#bd3786\"], [0.5555555555555556, \"#d8576b\"], [0.6666666666666666, \"#ed7953\"], [0.7777777777777778, \"#fb9f3a\"], [0.8888888888888888, \"#fdca26\"], [1.0, \"#f0f921\"]], \"type\": \"heatmap\"}], \"heatmapgl\": [{\"colorbar\": {\"outlinewidth\": 0, \"ticks\": \"\"}, \"colorscale\": [[0.0, \"#0d0887\"], [0.1111111111111111, \"#46039f\"], [0.2222222222222222, \"#7201a8\"], [0.3333333333333333, \"#9c179e\"], [0.4444444444444444, \"#bd3786\"], [0.5555555555555556, \"#d8576b\"], [0.6666666666666666, \"#ed7953\"], [0.7777777777777778, \"#fb9f3a\"], [0.8888888888888888, \"#fdca26\"], [1.0, \"#f0f921\"]], \"type\": \"heatmapgl\"}], \"histogram\": [{\"marker\": {\"colorbar\": {\"outlinewidth\": 0, \"ticks\": \"\"}}, \"type\": \"histogram\"}], \"histogram2d\": [{\"colorbar\": {\"outlinewidth\": 0, \"ticks\": \"\"}, \"colorscale\": [[0.0, \"#0d0887\"], [0.1111111111111111, \"#46039f\"], [0.2222222222222222, \"#7201a8\"], [0.3333333333333333, \"#9c179e\"], [0.4444444444444444, \"#bd3786\"], [0.5555555555555556, \"#d8576b\"], [0.6666666666666666, \"#ed7953\"], [0.7777777777777778, \"#fb9f3a\"], [0.8888888888888888, \"#fdca26\"], [1.0, \"#f0f921\"]], \"type\": \"histogram2d\"}], \"histogram2dcontour\": [{\"colorbar\": {\"outlinewidth\": 0, \"ticks\": \"\"}, \"colorscale\": [[0.0, \"#0d0887\"], [0.1111111111111111, \"#46039f\"], [0.2222222222222222, \"#7201a8\"], [0.3333333333333333, \"#9c179e\"], [0.4444444444444444, \"#bd3786\"], [0.5555555555555556, \"#d8576b\"], [0.6666666666666666, \"#ed7953\"], [0.7777777777777778, \"#fb9f3a\"], [0.8888888888888888, \"#fdca26\"], [1.0, \"#f0f921\"]], \"type\": \"histogram2dcontour\"}], \"mesh3d\": [{\"colorbar\": {\"outlinewidth\": 0, \"ticks\": \"\"}, \"type\": \"mesh3d\"}], \"parcoords\": [{\"line\": {\"colorbar\": {\"outlinewidth\": 0, \"ticks\": \"\"}}, \"type\": \"parcoords\"}], \"pie\": [{\"automargin\": true, \"type\": \"pie\"}], \"scatter\": [{\"marker\": {\"colorbar\": {\"outlinewidth\": 0, \"ticks\": \"\"}}, \"type\": \"scatter\"}], \"scatter3d\": [{\"line\": {\"colorbar\": {\"outlinewidth\": 0, \"ticks\": \"\"}}, \"marker\": {\"colorbar\": {\"outlinewidth\": 0, \"ticks\": \"\"}}, \"type\": \"scatter3d\"}], \"scattercarpet\": [{\"marker\": {\"colorbar\": {\"outlinewidth\": 0, \"ticks\": \"\"}}, \"type\": \"scattercarpet\"}], \"scattergeo\": [{\"marker\": {\"colorbar\": {\"outlinewidth\": 0, \"ticks\": \"\"}}, \"type\": \"scattergeo\"}], \"scattergl\": [{\"marker\": {\"colorbar\": {\"outlinewidth\": 0, \"ticks\": \"\"}}, \"type\": \"scattergl\"}], \"scattermapbox\": [{\"marker\": {\"colorbar\": {\"outlinewidth\": 0, \"ticks\": \"\"}}, \"type\": \"scattermapbox\"}], \"scatterpolar\": [{\"marker\": {\"colorbar\": {\"outlinewidth\": 0, \"ticks\": \"\"}}, \"type\": \"scatterpolar\"}], \"scatterpolargl\": [{\"marker\": {\"colorbar\": {\"outlinewidth\": 0, \"ticks\": \"\"}}, \"type\": \"scatterpolargl\"}], \"scatterternary\": [{\"marker\": {\"colorbar\": {\"outlinewidth\": 0, \"ticks\": \"\"}}, \"type\": \"scatterternary\"}], \"surface\": [{\"colorbar\": {\"outlinewidth\": 0, \"ticks\": \"\"}, \"colorscale\": [[0.0, \"#0d0887\"], [0.1111111111111111, \"#46039f\"], [0.2222222222222222, \"#7201a8\"], [0.3333333333333333, \"#9c179e\"], [0.4444444444444444, \"#bd3786\"], [0.5555555555555556, \"#d8576b\"], [0.6666666666666666, \"#ed7953\"], [0.7777777777777778, \"#fb9f3a\"], [0.8888888888888888, \"#fdca26\"], [1.0, \"#f0f921\"]], \"type\": \"surface\"}], \"table\": [{\"cells\": {\"fill\": {\"color\": \"#EBF0F8\"}, \"line\": {\"color\": \"white\"}}, \"header\": {\"fill\": {\"color\": \"#C8D4E3\"}, \"line\": {\"color\": \"white\"}}, \"type\": \"table\"}]}, \"layout\": {\"annotationdefaults\": {\"arrowcolor\": \"#2a3f5f\", \"arrowhead\": 0, \"arrowwidth\": 1}, \"coloraxis\": {\"colorbar\": {\"outlinewidth\": 0, \"ticks\": \"\"}}, \"colorscale\": {\"diverging\": [[0, \"#8e0152\"], [0.1, \"#c51b7d\"], [0.2, \"#de77ae\"], [0.3, \"#f1b6da\"], [0.4, \"#fde0ef\"], [0.5, \"#f7f7f7\"], [0.6, \"#e6f5d0\"], [0.7, \"#b8e186\"], [0.8, \"#7fbc41\"], [0.9, \"#4d9221\"], [1, \"#276419\"]], \"sequential\": [[0.0, \"#0d0887\"], [0.1111111111111111, \"#46039f\"], [0.2222222222222222, \"#7201a8\"], [0.3333333333333333, \"#9c179e\"], [0.4444444444444444, \"#bd3786\"], [0.5555555555555556, \"#d8576b\"], [0.6666666666666666, \"#ed7953\"], [0.7777777777777778, \"#fb9f3a\"], [0.8888888888888888, \"#fdca26\"], [1.0, \"#f0f921\"]], \"sequentialminus\": [[0.0, \"#0d0887\"], [0.1111111111111111, \"#46039f\"], [0.2222222222222222, \"#7201a8\"], [0.3333333333333333, \"#9c179e\"], [0.4444444444444444, \"#bd3786\"], [0.5555555555555556, \"#d8576b\"], [0.6666666666666666, \"#ed7953\"], [0.7777777777777778, \"#fb9f3a\"], [0.8888888888888888, \"#fdca26\"], [1.0, \"#f0f921\"]]}, \"colorway\": [\"#636efa\", \"#EF553B\", \"#00cc96\", \"#ab63fa\", \"#FFA15A\", \"#19d3f3\", \"#FF6692\", \"#B6E880\", \"#FF97FF\", \"#FECB52\"], \"font\": {\"color\": \"#2a3f5f\"}, \"geo\": {\"bgcolor\": \"white\", \"lakecolor\": \"white\", \"landcolor\": \"#E5ECF6\", \"showlakes\": true, \"showland\": true, \"subunitcolor\": \"white\"}, \"hoverlabel\": {\"align\": \"left\"}, \"hovermode\": \"closest\", \"mapbox\": {\"style\": \"light\"}, \"paper_bgcolor\": \"white\", \"plot_bgcolor\": \"#E5ECF6\", \"polar\": {\"angularaxis\": {\"gridcolor\": \"white\", \"linecolor\": \"white\", \"ticks\": \"\"}, \"bgcolor\": \"#E5ECF6\", \"radialaxis\": {\"gridcolor\": \"white\", \"linecolor\": \"white\", \"ticks\": \"\"}}, \"scene\": {\"xaxis\": {\"backgroundcolor\": \"#E5ECF6\", \"gridcolor\": \"white\", \"gridwidth\": 2, \"linecolor\": \"white\", \"showbackground\": true, \"ticks\": \"\", \"zerolinecolor\": \"white\"}, \"yaxis\": {\"backgroundcolor\": \"#E5ECF6\", \"gridcolor\": \"white\", \"gridwidth\": 2, \"linecolor\": \"white\", \"showbackground\": true, \"ticks\": \"\", \"zerolinecolor\": \"white\"}, \"zaxis\": {\"backgroundcolor\": \"#E5ECF6\", \"gridcolor\": \"white\", \"gridwidth\": 2, \"linecolor\": \"white\", \"showbackground\": true, \"ticks\": \"\", \"zerolinecolor\": \"white\"}}, \"shapedefaults\": {\"line\": {\"color\": \"#2a3f5f\"}}, \"ternary\": {\"aaxis\": {\"gridcolor\": \"white\", \"linecolor\": \"white\", \"ticks\": \"\"}, \"baxis\": {\"gridcolor\": \"white\", \"linecolor\": \"white\", \"ticks\": \"\"}, \"bgcolor\": \"#E5ECF6\", \"caxis\": {\"gridcolor\": \"white\", \"linecolor\": \"white\", \"ticks\": \"\"}}, \"title\": {\"x\": 0.05}, \"xaxis\": {\"automargin\": true, \"gridcolor\": \"white\", \"linecolor\": \"white\", \"ticks\": \"\", \"title\": {\"standoff\": 15}, \"zerolinecolor\": \"white\", \"zerolinewidth\": 2}, \"yaxis\": {\"automargin\": true, \"gridcolor\": \"white\", \"linecolor\": \"white\", \"ticks\": \"\", \"title\": {\"standoff\": 15}, \"zerolinecolor\": \"white\", \"zerolinewidth\": 2}}}, \"title\": {\"text\": \"Stock Market Capitalization-to-GDP Ratio\"}, \"xaxis\": {\"anchor\": \"y\", \"domain\": [0.0, 1.0], \"title\": {\"text\": \"DATE\"}}, \"yaxis\": {\"anchor\": \"x\", \"domain\": [0.0, 1.0], \"title\": {\"text\": \"Buffett's indicator %\"}}},\n",
              "                        {\"responsive\": true}\n",
              "                    ).then(function(){\n",
              "                            \n",
              "var gd = document.getElementById('81f465c1-d03c-4719-815c-53671c03bf11');\n",
              "var x = new MutationObserver(function (mutations, observer) {{\n",
              "        var display = window.getComputedStyle(gd).display;\n",
              "        if (!display || display === 'none') {{\n",
              "            console.log([gd, 'removed!']);\n",
              "            Plotly.purge(gd);\n",
              "            observer.disconnect();\n",
              "        }}\n",
              "}});\n",
              "\n",
              "// Listen for the removal of the full notebook cells\n",
              "var notebookContainer = gd.closest('#notebook-container');\n",
              "if (notebookContainer) {{\n",
              "    x.observe(notebookContainer, {childList: true});\n",
              "}}\n",
              "\n",
              "// Listen for the clearing of the current output cell\n",
              "var outputEl = gd.closest('.output');\n",
              "if (outputEl) {{\n",
              "    x.observe(outputEl, {childList: true});\n",
              "}}\n",
              "\n",
              "                        })\n",
              "                };\n",
              "                \n",
              "            </script>\n",
              "        </div>\n",
              "</body>\n",
              "</html>"
            ]
          },
          "metadata": {
            "tags": []
          }
        }
      ]
    }
  ]
}